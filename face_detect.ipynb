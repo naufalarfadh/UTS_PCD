{
 "cells": [
  {
   "cell_type": "code",
   "execution_count": 1,
   "metadata": {},
   "outputs": [
    {
     "ename": "",
     "evalue": "",
     "output_type": "error",
     "traceback": [
      "\u001b[1;31mCanceled future for execute_request message before replies were done"
     ]
    },
    {
     "ename": "",
     "evalue": "",
     "output_type": "error",
     "traceback": [
      "\u001b[1;31mThe Kernel crashed while executing code in the the current cell or a previous cell. Please review the code in the cell(s) to identify a possible cause of the failure. Click <a href='https://aka.ms/vscodeJupyterKernelCrash'>here</a> for more info. View Jupyter <a href='command:jupyter.viewOutput'>log</a> for further details."
     ]
    }
   ],
   "source": [
    "import cv2\n",
    "\n",
    "cam = cv2.VideoCapture(0)\n",
    "cam.set(3, 660)\n",
    "cam.set(4, 500)\n",
    "faceDetector = cv2.CascadeClassifier('haarcascade_frontalface_default.xml')\n",
    "\n",
    "while True :\n",
    "    retv, frame = cam.read()\n",
    "    warna = cv2.cvtColor(frame, cv2.COLOR_BGR2GRAY)\n",
    "    faces = faceDetector.detectMultiScale(warna, 1.3, 5)\n",
    "\n",
    "    for (x, y, w, h) in faces :\n",
    "        frame = cv2.rectangle(frame, (x,y), (x+w, y+h), (0,225,63), 2)\n",
    "        rec_muka = warna[y : y + h, x : x + w]\n",
    "    cv2.imshow('WEBCAM', frame)\n",
    "    close = cv2.waitKey(1) & 0xFF\n",
    "    if close == 27 or close == ord ('x') :\n",
    "        break\n",
    "\n",
    "\n",
    "cam.realese()\n",
    "cv2.destroyAllWindows()\n",
    "\n",
    "        "
   ]
  }
 ],
 "metadata": {
  "kernelspec": {
   "display_name": "Python 3",
   "language": "python",
   "name": "python3"
  },
  "language_info": {
   "codemirror_mode": {
    "name": "ipython",
    "version": 3
   },
   "file_extension": ".py",
   "mimetype": "text/x-python",
   "name": "python",
   "nbconvert_exporter": "python",
   "pygments_lexer": "ipython3",
   "version": "3.11.3"
  },
  "orig_nbformat": 4
 },
 "nbformat": 4,
 "nbformat_minor": 2
}
